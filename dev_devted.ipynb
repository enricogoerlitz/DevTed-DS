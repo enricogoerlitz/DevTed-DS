{
 "cells": [
  {
   "cell_type": "markdown",
   "metadata": {},
   "source": [
    "# Test the DevTed-Package"
   ]
  },
  {
   "cell_type": "markdown",
   "metadata": {},
   "source": [
    "# Import"
   ]
  },
  {
   "cell_type": "code",
   "execution_count": 2,
   "metadata": {},
   "outputs": [],
   "source": [
    "import devted as dt\n",
    "import pandas as pd\n",
    "import seaborn as sns\n",
    "import matplotlib.pyplot as plt\n",
    "\n",
    "from typing import *\n",
    "from devted.typing import *\n",
    "from pandas import DataFrame, Series"
   ]
  },
  {
   "cell_type": "code",
   "execution_count": 3,
   "metadata": {},
   "outputs": [],
   "source": [
    "BASE = \"title xlabel ylabel set_kwargs\"\n",
    "ORIENT = f\"{BASE} orient\""
   ]
  },
  {
   "cell_type": "code",
   "execution_count": 31,
   "metadata": {},
   "outputs": [
    {
     "data": {
      "text/html": [
       "<div>\n",
       "<style scoped>\n",
       "    .dataframe tbody tr th:only-of-type {\n",
       "        vertical-align: middle;\n",
       "    }\n",
       "\n",
       "    .dataframe tbody tr th {\n",
       "        vertical-align: top;\n",
       "    }\n",
       "\n",
       "    .dataframe thead th {\n",
       "        text-align: right;\n",
       "    }\n",
       "</style>\n",
       "<table border=\"1\" class=\"dataframe\">\n",
       "  <thead>\n",
       "    <tr style=\"text-align: right;\">\n",
       "      <th></th>\n",
       "      <th>Date</th>\n",
       "      <th>Open</th>\n",
       "      <th>High</th>\n",
       "      <th>Low</th>\n",
       "      <th>Close</th>\n",
       "      <th>Adj Close</th>\n",
       "      <th>Volume</th>\n",
       "    </tr>\n",
       "  </thead>\n",
       "  <tbody>\n",
       "    <tr>\n",
       "      <th>0</th>\n",
       "      <td>2021-11-15</td>\n",
       "      <td>344.339996</td>\n",
       "      <td>353.649994</td>\n",
       "      <td>343.200012</td>\n",
       "      <td>347.559998</td>\n",
       "      <td>347.559998</td>\n",
       "      <td>25076600</td>\n",
       "    </tr>\n",
       "    <tr>\n",
       "      <th>1</th>\n",
       "      <td>2021-11-16</td>\n",
       "      <td>343.829987</td>\n",
       "      <td>346.649994</td>\n",
       "      <td>340.869995</td>\n",
       "      <td>342.959991</td>\n",
       "      <td>342.959991</td>\n",
       "      <td>18181100</td>\n",
       "    </tr>\n",
       "    <tr>\n",
       "      <th>2</th>\n",
       "      <td>2021-11-17</td>\n",
       "      <td>344.239990</td>\n",
       "      <td>347.299988</td>\n",
       "      <td>340.100006</td>\n",
       "      <td>340.769989</td>\n",
       "      <td>340.769989</td>\n",
       "      <td>13602800</td>\n",
       "    </tr>\n",
       "    <tr>\n",
       "      <th>3</th>\n",
       "      <td>2021-11-18</td>\n",
       "      <td>339.720001</td>\n",
       "      <td>342.459991</td>\n",
       "      <td>335.299988</td>\n",
       "      <td>338.690002</td>\n",
       "      <td>338.690002</td>\n",
       "      <td>17487200</td>\n",
       "    </tr>\n",
       "    <tr>\n",
       "      <th>4</th>\n",
       "      <td>2021-11-19</td>\n",
       "      <td>342.200012</td>\n",
       "      <td>352.100006</td>\n",
       "      <td>339.899994</td>\n",
       "      <td>345.299988</td>\n",
       "      <td>345.299988</td>\n",
       "      <td>26488500</td>\n",
       "    </tr>\n",
       "    <tr>\n",
       "      <th>...</th>\n",
       "      <td>...</td>\n",
       "      <td>...</td>\n",
       "      <td>...</td>\n",
       "      <td>...</td>\n",
       "      <td>...</td>\n",
       "      <td>...</td>\n",
       "      <td>...</td>\n",
       "    </tr>\n",
       "    <tr>\n",
       "      <th>247</th>\n",
       "      <td>2022-11-08</td>\n",
       "      <td>95.919998</td>\n",
       "      <td>97.800003</td>\n",
       "      <td>94.790001</td>\n",
       "      <td>96.470001</td>\n",
       "      <td>96.470001</td>\n",
       "      <td>52088300</td>\n",
       "    </tr>\n",
       "    <tr>\n",
       "      <th>248</th>\n",
       "      <td>2022-11-09</td>\n",
       "      <td>101.720001</td>\n",
       "      <td>104.900002</td>\n",
       "      <td>100.739998</td>\n",
       "      <td>101.470001</td>\n",
       "      <td>101.470001</td>\n",
       "      <td>107677300</td>\n",
       "    </tr>\n",
       "    <tr>\n",
       "      <th>249</th>\n",
       "      <td>2022-11-10</td>\n",
       "      <td>107.120003</td>\n",
       "      <td>112.750000</td>\n",
       "      <td>104.610001</td>\n",
       "      <td>111.870003</td>\n",
       "      <td>111.870003</td>\n",
       "      <td>80671000</td>\n",
       "    </tr>\n",
       "    <tr>\n",
       "      <th>250</th>\n",
       "      <td>2022-11-11</td>\n",
       "      <td>109.230003</td>\n",
       "      <td>114.900002</td>\n",
       "      <td>108.809998</td>\n",
       "      <td>113.019997</td>\n",
       "      <td>113.019997</td>\n",
       "      <td>59836400</td>\n",
       "    </tr>\n",
       "    <tr>\n",
       "      <th>251</th>\n",
       "      <td>2022-11-14</td>\n",
       "      <td>110.989998</td>\n",
       "      <td>116.269997</td>\n",
       "      <td>110.800003</td>\n",
       "      <td>114.220001</td>\n",
       "      <td>114.220001</td>\n",
       "      <td>53153400</td>\n",
       "    </tr>\n",
       "  </tbody>\n",
       "</table>\n",
       "<p>252 rows × 7 columns</p>\n",
       "</div>"
      ],
      "text/plain": [
       "          Date        Open        High         Low       Close   Adj Close  \\\n",
       "0   2021-11-15  344.339996  353.649994  343.200012  347.559998  347.559998   \n",
       "1   2021-11-16  343.829987  346.649994  340.869995  342.959991  342.959991   \n",
       "2   2021-11-17  344.239990  347.299988  340.100006  340.769989  340.769989   \n",
       "3   2021-11-18  339.720001  342.459991  335.299988  338.690002  338.690002   \n",
       "4   2021-11-19  342.200012  352.100006  339.899994  345.299988  345.299988   \n",
       "..         ...         ...         ...         ...         ...         ...   \n",
       "247 2022-11-08   95.919998   97.800003   94.790001   96.470001   96.470001   \n",
       "248 2022-11-09  101.720001  104.900002  100.739998  101.470001  101.470001   \n",
       "249 2022-11-10  107.120003  112.750000  104.610001  111.870003  111.870003   \n",
       "250 2022-11-11  109.230003  114.900002  108.809998  113.019997  113.019997   \n",
       "251 2022-11-14  110.989998  116.269997  110.800003  114.220001  114.220001   \n",
       "\n",
       "        Volume  \n",
       "0     25076600  \n",
       "1     18181100  \n",
       "2     13602800  \n",
       "3     17487200  \n",
       "4     26488500  \n",
       "..         ...  \n",
       "247   52088300  \n",
       "248  107677300  \n",
       "249   80671000  \n",
       "250   59836400  \n",
       "251   53153400  \n",
       "\n",
       "[252 rows x 7 columns]"
      ]
     },
     "execution_count": 31,
     "metadata": {},
     "output_type": "execute_result"
    }
   ],
   "source": [
    "df_ts = pd.read_csv(\"./data/ts_data.csv\")\n",
    "df_ts[\"Date\"] = pd.to_datetime(df_ts[\"Date\"])\n",
    "df_ts"
   ]
  },
  {
   "cell_type": "code",
   "execution_count": 5,
   "metadata": {},
   "outputs": [
    {
     "data": {
      "text/html": [
       "<div>\n",
       "<style scoped>\n",
       "    .dataframe tbody tr th:only-of-type {\n",
       "        vertical-align: middle;\n",
       "    }\n",
       "\n",
       "    .dataframe tbody tr th {\n",
       "        vertical-align: top;\n",
       "    }\n",
       "\n",
       "    .dataframe thead th {\n",
       "        text-align: right;\n",
       "    }\n",
       "</style>\n",
       "<table border=\"1\" class=\"dataframe\">\n",
       "  <thead>\n",
       "    <tr style=\"text-align: right;\">\n",
       "      <th></th>\n",
       "      <th>PassengerId</th>\n",
       "      <th>Survived</th>\n",
       "      <th>Pclass</th>\n",
       "      <th>Name</th>\n",
       "      <th>Sex</th>\n",
       "      <th>Age</th>\n",
       "      <th>SibSp</th>\n",
       "      <th>Parch</th>\n",
       "      <th>Ticket</th>\n",
       "      <th>Fare</th>\n",
       "      <th>Cabin</th>\n",
       "      <th>Embarked</th>\n",
       "    </tr>\n",
       "  </thead>\n",
       "  <tbody>\n",
       "    <tr>\n",
       "      <th>0</th>\n",
       "      <td>1</td>\n",
       "      <td>0</td>\n",
       "      <td>3</td>\n",
       "      <td>Braund, Mr. Owen Harris</td>\n",
       "      <td>male</td>\n",
       "      <td>22.0</td>\n",
       "      <td>1</td>\n",
       "      <td>0</td>\n",
       "      <td>A/5 21171</td>\n",
       "      <td>7.2500</td>\n",
       "      <td>NaN</td>\n",
       "      <td>S</td>\n",
       "    </tr>\n",
       "    <tr>\n",
       "      <th>1</th>\n",
       "      <td>2</td>\n",
       "      <td>1</td>\n",
       "      <td>1</td>\n",
       "      <td>Cumings, Mrs. John Bradley (Florence Briggs Th...</td>\n",
       "      <td>female</td>\n",
       "      <td>38.0</td>\n",
       "      <td>1</td>\n",
       "      <td>0</td>\n",
       "      <td>PC 17599</td>\n",
       "      <td>71.2833</td>\n",
       "      <td>C85</td>\n",
       "      <td>C</td>\n",
       "    </tr>\n",
       "    <tr>\n",
       "      <th>2</th>\n",
       "      <td>3</td>\n",
       "      <td>1</td>\n",
       "      <td>3</td>\n",
       "      <td>Heikkinen, Miss. Laina</td>\n",
       "      <td>female</td>\n",
       "      <td>26.0</td>\n",
       "      <td>0</td>\n",
       "      <td>0</td>\n",
       "      <td>STON/O2. 3101282</td>\n",
       "      <td>7.9250</td>\n",
       "      <td>NaN</td>\n",
       "      <td>S</td>\n",
       "    </tr>\n",
       "    <tr>\n",
       "      <th>3</th>\n",
       "      <td>4</td>\n",
       "      <td>1</td>\n",
       "      <td>1</td>\n",
       "      <td>Futrelle, Mrs. Jacques Heath (Lily May Peel)</td>\n",
       "      <td>female</td>\n",
       "      <td>35.0</td>\n",
       "      <td>1</td>\n",
       "      <td>0</td>\n",
       "      <td>113803</td>\n",
       "      <td>53.1000</td>\n",
       "      <td>C123</td>\n",
       "      <td>S</td>\n",
       "    </tr>\n",
       "    <tr>\n",
       "      <th>4</th>\n",
       "      <td>5</td>\n",
       "      <td>0</td>\n",
       "      <td>3</td>\n",
       "      <td>Allen, Mr. William Henry</td>\n",
       "      <td>male</td>\n",
       "      <td>35.0</td>\n",
       "      <td>0</td>\n",
       "      <td>0</td>\n",
       "      <td>373450</td>\n",
       "      <td>8.0500</td>\n",
       "      <td>NaN</td>\n",
       "      <td>S</td>\n",
       "    </tr>\n",
       "    <tr>\n",
       "      <th>...</th>\n",
       "      <td>...</td>\n",
       "      <td>...</td>\n",
       "      <td>...</td>\n",
       "      <td>...</td>\n",
       "      <td>...</td>\n",
       "      <td>...</td>\n",
       "      <td>...</td>\n",
       "      <td>...</td>\n",
       "      <td>...</td>\n",
       "      <td>...</td>\n",
       "      <td>...</td>\n",
       "      <td>...</td>\n",
       "    </tr>\n",
       "    <tr>\n",
       "      <th>886</th>\n",
       "      <td>887</td>\n",
       "      <td>0</td>\n",
       "      <td>2</td>\n",
       "      <td>Montvila, Rev. Juozas</td>\n",
       "      <td>male</td>\n",
       "      <td>27.0</td>\n",
       "      <td>0</td>\n",
       "      <td>0</td>\n",
       "      <td>211536</td>\n",
       "      <td>13.0000</td>\n",
       "      <td>NaN</td>\n",
       "      <td>S</td>\n",
       "    </tr>\n",
       "    <tr>\n",
       "      <th>887</th>\n",
       "      <td>888</td>\n",
       "      <td>1</td>\n",
       "      <td>1</td>\n",
       "      <td>Graham, Miss. Margaret Edith</td>\n",
       "      <td>female</td>\n",
       "      <td>19.0</td>\n",
       "      <td>0</td>\n",
       "      <td>0</td>\n",
       "      <td>112053</td>\n",
       "      <td>30.0000</td>\n",
       "      <td>B42</td>\n",
       "      <td>S</td>\n",
       "    </tr>\n",
       "    <tr>\n",
       "      <th>888</th>\n",
       "      <td>889</td>\n",
       "      <td>0</td>\n",
       "      <td>3</td>\n",
       "      <td>Johnston, Miss. Catherine Helen \"Carrie\"</td>\n",
       "      <td>female</td>\n",
       "      <td>NaN</td>\n",
       "      <td>1</td>\n",
       "      <td>2</td>\n",
       "      <td>W./C. 6607</td>\n",
       "      <td>23.4500</td>\n",
       "      <td>NaN</td>\n",
       "      <td>S</td>\n",
       "    </tr>\n",
       "    <tr>\n",
       "      <th>889</th>\n",
       "      <td>890</td>\n",
       "      <td>1</td>\n",
       "      <td>1</td>\n",
       "      <td>Behr, Mr. Karl Howell</td>\n",
       "      <td>male</td>\n",
       "      <td>26.0</td>\n",
       "      <td>0</td>\n",
       "      <td>0</td>\n",
       "      <td>111369</td>\n",
       "      <td>30.0000</td>\n",
       "      <td>C148</td>\n",
       "      <td>C</td>\n",
       "    </tr>\n",
       "    <tr>\n",
       "      <th>890</th>\n",
       "      <td>891</td>\n",
       "      <td>0</td>\n",
       "      <td>3</td>\n",
       "      <td>Dooley, Mr. Patrick</td>\n",
       "      <td>male</td>\n",
       "      <td>32.0</td>\n",
       "      <td>0</td>\n",
       "      <td>0</td>\n",
       "      <td>370376</td>\n",
       "      <td>7.7500</td>\n",
       "      <td>NaN</td>\n",
       "      <td>Q</td>\n",
       "    </tr>\n",
       "  </tbody>\n",
       "</table>\n",
       "<p>891 rows × 12 columns</p>\n",
       "</div>"
      ],
      "text/plain": [
       "     PassengerId  Survived  Pclass  \\\n",
       "0              1         0       3   \n",
       "1              2         1       1   \n",
       "2              3         1       3   \n",
       "3              4         1       1   \n",
       "4              5         0       3   \n",
       "..           ...       ...     ...   \n",
       "886          887         0       2   \n",
       "887          888         1       1   \n",
       "888          889         0       3   \n",
       "889          890         1       1   \n",
       "890          891         0       3   \n",
       "\n",
       "                                                  Name     Sex   Age  SibSp  \\\n",
       "0                              Braund, Mr. Owen Harris    male  22.0      1   \n",
       "1    Cumings, Mrs. John Bradley (Florence Briggs Th...  female  38.0      1   \n",
       "2                               Heikkinen, Miss. Laina  female  26.0      0   \n",
       "3         Futrelle, Mrs. Jacques Heath (Lily May Peel)  female  35.0      1   \n",
       "4                             Allen, Mr. William Henry    male  35.0      0   \n",
       "..                                                 ...     ...   ...    ...   \n",
       "886                              Montvila, Rev. Juozas    male  27.0      0   \n",
       "887                       Graham, Miss. Margaret Edith  female  19.0      0   \n",
       "888           Johnston, Miss. Catherine Helen \"Carrie\"  female   NaN      1   \n",
       "889                              Behr, Mr. Karl Howell    male  26.0      0   \n",
       "890                                Dooley, Mr. Patrick    male  32.0      0   \n",
       "\n",
       "     Parch            Ticket     Fare Cabin Embarked  \n",
       "0        0         A/5 21171   7.2500   NaN        S  \n",
       "1        0          PC 17599  71.2833   C85        C  \n",
       "2        0  STON/O2. 3101282   7.9250   NaN        S  \n",
       "3        0            113803  53.1000  C123        S  \n",
       "4        0            373450   8.0500   NaN        S  \n",
       "..     ...               ...      ...   ...      ...  \n",
       "886      0            211536  13.0000   NaN        S  \n",
       "887      0            112053  30.0000   B42        S  \n",
       "888      2        W./C. 6607  23.4500   NaN        S  \n",
       "889      0            111369  30.0000  C148        C  \n",
       "890      0            370376   7.7500   NaN        Q  \n",
       "\n",
       "[891 rows x 12 columns]"
      ]
     },
     "execution_count": 5,
     "metadata": {},
     "output_type": "execute_result"
    }
   ],
   "source": [
    "df = pd.read_csv(\"./data/titanic_data.csv\")\n",
    "df"
   ]
  },
  {
   "cell_type": "code",
   "execution_count": 6,
   "metadata": {},
   "outputs": [
    {
     "data": {
      "text/plain": [
       "{'hi': 'hey'}"
      ]
     },
     "execution_count": 6,
     "metadata": {},
     "output_type": "execute_result"
    }
   ],
   "source": [
    "d = {\"hi\": \"hey\", \"ignore\": \"me\"}\n",
    "{k: v for k, v in d.items() if k not in [\"ignore\"]}"
   ]
  },
  {
   "cell_type": "code",
   "execution_count": 7,
   "metadata": {},
   "outputs": [],
   "source": [
    "def zipparams(ignore: Vector = None):\n",
    "    def decorator(func):\n",
    "        def wrapper(*args, **kwargs):\n",
    "            zip_params = {k: v for k, v in kwargs.items() if k not in ignore}\n",
    "            return func(zip_params=zip_params, **kwargs)\n",
    "        return wrapper\n",
    "    return decorator"
   ]
  },
  {
   "cell_type": "code",
   "execution_count": 8,
   "metadata": {},
   "outputs": [],
   "source": [
    "@zipparams(ignore=\"title xlabel ylabel set_kws\".split())\n",
    "def histplot(\n",
    "    *,\n",
    "    x: str = None,\n",
    "    data: DataFrame = None,\n",
    "    title: str = \"TITLE\",\n",
    "    xlabel: str | None = None,\n",
    "    ylabel: str | None = None,\n",
    "    bins: str | int | Vector = \"auto\",\n",
    "    hue: Any | None = None,\n",
    "    kde: bool = False,\n",
    "    palette: Any | None = None,\n",
    "    color: Any | None = None,\n",
    "    legend: bool = True,\n",
    "    ax: Any | None = None,\n",
    "    set_kws: dict = None,\n",
    "    cumulative: bool = False,\n",
    "    multiple: Literal[\"layer\", \"dodge\", \"stack\", \"fill\"] = \"layer\",\n",
    "    element: Literal[\"bars\", \"step\", \"poly\"] = \"bars\",\n",
    "    fill: bool = True,\n",
    "    kde_kws: Any | None = None,\n",
    "    zip_params: dict = None,\n",
    "    **kwargs: Any\n",
    ") -> plt.Axes | tuple[plt.Axes, DataFrame]:\n",
    "    set_kwargs = (\n",
    "        {\"title\": title} | \n",
    "        ({} if not xlabel else {\"xlabel\": xlabel}) |\n",
    "        ({} if not xlabel else {\"xlabel\": xlabel}) |\n",
    "        ({} if not ylabel else {\"ylabel\": ylabel}) |\n",
    "        ({} if not isinstance(set_kws, dict) else set_kws)\n",
    "    )\n",
    "\n",
    "    ax = sns.histplot(**zip_params)\n",
    "    ax.set(**set_kwargs)\n",
    "    return ax"
   ]
  },
  {
   "cell_type": "code",
   "execution_count": 9,
   "metadata": {},
   "outputs": [
    {
     "data": {
      "text/plain": [
       "<AxesSubplot:title={'center':'MYTITLE'}, xlabel='Myxlabel', ylabel='Myylabel'>"
      ]
     },
     "execution_count": 9,
     "metadata": {},
     "output_type": "execute_result"
    },
    {
     "data": {
      "image/png": "[encoded data removed]",
      "text/plain": [
       "<Figure size 432x288 with 1 Axes>"
      ]
     },
     "metadata": {
      "needs_background": "light"
     },
     "output_type": "display_data"
    }
   ],
   "source": [
    "dt.histplot(x=\"Age\", data=df, xlabel=\"myxlabel\", set_kwargs={\"ylabel\": \"myylabel\"}, title=\"myTitle\")"
   ]
  },
  {
   "cell_type": "code",
   "execution_count": 10,
   "metadata": {},
   "outputs": [
    {
     "data": {
      "text/plain": [
       "<AxesSubplot:title={'center':'MyTitle'}, xlabel='XLAB', ylabel='YLAB'>"
      ]
     },
     "execution_count": 10,
     "metadata": {},
     "output_type": "execute_result"
    },
    {
     "data": {
      "image/png": "[encoded data removed]",
      "text/plain": [
       "<Figure size 432x288 with 1 Axes>"
      ]
     },
     "metadata": {
      "needs_background": "light"
     },
     "output_type": "display_data"
    }
   ],
   "source": [
    "histplot(x=\"Age\", data=df, title=\"MyTitle\", xlabel=\"XLAB\", set_kws={\"ylabel\": \"YLAB\"})"
   ]
  },
  {
   "cell_type": "code",
   "execution_count": 11,
   "metadata": {},
   "outputs": [
    {
     "data": {
      "text/plain": [
       "[Text(0.5, 1.0, 'HELLO'), Text(0.5, 0, 'hello'), Text(0, 0.5, 'My')]"
      ]
     },
     "execution_count": 11,
     "metadata": {},
     "output_type": "execute_result"
    },
    {
     "data": {
      "image/png": "[encoded data removed]",
      "text/plain": [
       "<Figure size 432x288 with 1 Axes>"
      ]
     },
     "metadata": {
      "needs_background": "light"
     },
     "output_type": "display_data"
    }
   ],
   "source": [
    "sns.histplot(y=\"Age\", data=df).set(title=\"HELLO\", xlabel=\"hello\", ylabel=\"My\")"
   ]
  },
  {
   "cell_type": "markdown",
   "metadata": {},
   "source": [
    "## Countplot"
   ]
  },
  {
   "cell_type": "code",
   "execution_count": 12,
   "metadata": {},
   "outputs": [],
   "source": [
    "def _prep_title(kwargs: dict) -> dict:\n",
    "    kwargs[\"title\"] = kwargs.get(\"title\", \"TITLE\").upper()\n",
    "    return kwargs\n",
    "\n",
    "\n",
    "def _prep_labels(kwargs: dict) -> dict:\n",
    "    xlabel: str = kwargs.get(\"xlabel\", None)\n",
    "    ylabel: str = kwargs.get(\"ylabel\", None)\n",
    "    if xlabel:\n",
    "        kwargs[\"xlabel\"] = xlabel.capitalize()\n",
    "    if ylabel:\n",
    "        kwargs[\"ylabel\"] = ylabel.capitalize()\n",
    "    return kwargs"
   ]
  },
  {
   "cell_type": "code",
   "execution_count": 13,
   "metadata": {},
   "outputs": [],
   "source": [
    "def _prep_set_kwargs(\n",
    "    title: str, \n",
    "    xlabel: str | None,\n",
    "    ylabel: str | None,\n",
    "    set_kws: dict | None\n",
    ") -> dict:\n",
    "    set_kwargs = (\n",
    "        {\"title\": title} | \n",
    "        ({} if not xlabel else {\"xlabel\": xlabel}) |\n",
    "        ({} if not ylabel else {\"ylabel\": ylabel}) |\n",
    "        ({} if not isinstance(set_kws, dict) else set_kws)\n",
    "    )\n",
    "    set_kwargs = _prep_title(set_kwargs)\n",
    "    set_kwargs = _prep_labels(set_kwargs)\n",
    "    return set_kwargs"
   ]
  },
  {
   "cell_type": "code",
   "execution_count": 14,
   "metadata": {},
   "outputs": [],
   "source": [
    "def _plot(\n",
    "    plot_func: Callable,\n",
    "    plot_kwargs: dict,\n",
    "    set_kwargs\n",
    ") -> plt.Axes:\n",
    "    ax = plot_func(**plot_kwargs)\n",
    "    ax.set(**set_kwargs)\n",
    "    return ax"
   ]
  },
  {
   "cell_type": "code",
   "execution_count": 15,
   "metadata": {},
   "outputs": [],
   "source": [
    "@zipparams(ignore=\"title xlabel ylabel set_kws orient\".split())\n",
    "def countplot(*, \n",
    "    x: str = None, \n",
    "    hue: Any | None = None, \n",
    "    data: Any | None = None, \n",
    "    title: str = \"TITLE\",\n",
    "    xlabel: str | None = None,\n",
    "    ylabel: str | None = None,\n",
    "    order: Any | None = None, \n",
    "    hue_order: Any | None = None, \n",
    "    orient: Literal[\"h\", \"v\"] = \"v\",\n",
    "    set_kws: dict = None,\n",
    "    color: Any | None = None, \n",
    "    palette: Any | None = None, \n",
    "    ax: Any | None = None, \n",
    "    zip_params: dict = None,\n",
    "    **kwargs: Any\n",
    ") -> plt.Axes:\n",
    "    if orient == \"h\":\n",
    "        zip_params[\"y\"] = zip_params[\"x\"]\n",
    "        del zip_params[\"x\"]\n",
    "    set_kwargs = _prep_set_kwargs(\n",
    "        title,\n",
    "        xlabel,\n",
    "        ylabel,\n",
    "        set_kws\n",
    "    )\n",
    "    return _plot(sns.countplot, zip_params, set_kwargs)"
   ]
  },
  {
   "cell_type": "code",
   "execution_count": 16,
   "metadata": {},
   "outputs": [
    {
     "data": {
      "text/plain": [
       "<AxesSubplot:title={'center':'TITLE'}, xlabel='count', ylabel='Embarked'>"
      ]
     },
     "execution_count": 16,
     "metadata": {},
     "output_type": "execute_result"
    },
    {
     "data": {
      "image/png": "[encoded data removed]",
      "text/plain": [
       "<Figure size 432x288 with 1 Axes>"
      ]
     },
     "metadata": {
      "needs_background": "light"
     },
     "output_type": "display_data"
    }
   ],
   "source": [
    "countplot(x=\"Embarked\", data=df, orient=\"h\")"
   ]
  },
  {
   "cell_type": "code",
   "execution_count": 17,
   "metadata": {},
   "outputs": [
    {
     "data": {
      "text/plain": [
       "<AxesSubplot:xlabel='count', ylabel='Embarked'>"
      ]
     },
     "execution_count": 17,
     "metadata": {},
     "output_type": "execute_result"
    },
    {
     "data": {
      "image/png": "[encoded data removed]",
      "text/plain": [
       "<Figure size 432x288 with 1 Axes>"
      ]
     },
     "metadata": {
      "needs_background": "light"
     },
     "output_type": "display_data"
    }
   ],
   "source": [
    "sns.countplot(y=\"Embarked\", data=df, orient=\"v\")"
   ]
  },
  {
   "cell_type": "markdown",
   "metadata": {},
   "source": [
    "## pointplot"
   ]
  },
  {
   "cell_type": "code",
   "execution_count": 18,
   "metadata": {},
   "outputs": [],
   "source": [
    "@zipparams(ignore=\"title xlabel ylabel set_kws\".split())\n",
    "def pointplot(\n",
    "    *,\n",
    "    x: Any | None = None,\n",
    "    y: Any | None = None,\n",
    "    hue: Any | None = None,\n",
    "    data: Any | None = None,\n",
    "    title: str = \"TITLE\",\n",
    "    xlabel: str | None = None,\n",
    "    ylabel: str | None = None,\n",
    "    order: Vector | None = None,\n",
    "    hue_order: Vector | None = None,\n",
    "    ci: int = 95,\n",
    "    errorbar: Literal[\"ci\", \"pi\", \"se\", \"sd\"] = \"ci\",\n",
    "    markers: Marker = \"o\",\n",
    "    linestyles: LineStyle = \"-\",\n",
    "    ax: Any | None = None,\n",
    "    set_kws: dict = None,\n",
    "    zip_params: dict,\n",
    "    **kwargs: Any\n",
    ") -> plt.Axes:\n",
    "    set_kwargs = _prep_set_kwargs(\n",
    "        title,\n",
    "        xlabel,\n",
    "        ylabel,\n",
    "        set_kws\n",
    "    )\n",
    "    return _plot(\n",
    "        sns.pointplot,\n",
    "        zip_params,\n",
    "        set_kwargs\n",
    "    )"
   ]
  },
  {
   "cell_type": "code",
   "execution_count": 19,
   "metadata": {},
   "outputs": [
    {
     "data": {
      "text/plain": [
       "<AxesSubplot:title={'center':'TITLE'}, xlabel='Pclass', ylabel='Survived'>"
      ]
     },
     "execution_count": 19,
     "metadata": {},
     "output_type": "execute_result"
    },
    {
     "data": {
      "image/png": "[encoded data removed]",
      "text/plain": [
       "<Figure size 432x288 with 1 Axes>"
      ]
     },
     "metadata": {
      "needs_background": "light"
     },
     "output_type": "display_data"
    }
   ],
   "source": [
    "pointplot(x=\"Pclass\", y=\"Survived\", data=df, markers=\"*\")"
   ]
  },
  {
   "cell_type": "code",
   "execution_count": 20,
   "metadata": {},
   "outputs": [
    {
     "data": {
      "text/plain": [
       "<AxesSubplot:xlabel='Pclass', ylabel='Survived'>"
      ]
     },
     "execution_count": 20,
     "metadata": {},
     "output_type": "execute_result"
    },
    {
     "data": {
      "image/png": "[encoded data removed]",
      "text/plain": [
       "<Figure size 432x288 with 1 Axes>"
      ]
     },
     "metadata": {
      "needs_background": "light"
     },
     "output_type": "display_data"
    }
   ],
   "source": [
    "sns.pointplot(x=\"Pclass\", y=\"Survived\", data=df)"
   ]
  },
  {
   "cell_type": "markdown",
   "metadata": {},
   "source": [
    "## Scatterplot"
   ]
  },
  {
   "cell_type": "code",
   "execution_count": 21,
   "metadata": {},
   "outputs": [],
   "source": [
    "# Basic"
   ]
  },
  {
   "cell_type": "code",
   "execution_count": 22,
   "metadata": {},
   "outputs": [
    {
     "data": {
      "text/plain": [
       "<AxesSubplot:xlabel='Age', ylabel='Pclass'>"
      ]
     },
     "execution_count": 22,
     "metadata": {},
     "output_type": "execute_result"
    },
    {
     "data": {
      "image/png": "[encoded data removed]",
      "text/plain": [
       "<Figure size 432x288 with 1 Axes>"
      ]
     },
     "metadata": {
      "needs_background": "light"
     },
     "output_type": "display_data"
    }
   ],
   "source": [
    "sns.scatterplot(x=\"Age\", y=\"Pclass\", data=df)"
   ]
  },
  {
   "cell_type": "code",
   "execution_count": 23,
   "metadata": {},
   "outputs": [],
   "source": [
    "@zipparams(ignore=BASE.split())\n",
    "def scatterplot(\n",
    "    *,\n",
    "    x: str = None,\n",
    "    y: str = None,\n",
    "    data: DataFrame = None,\n",
    "    title: str = \"TITLE\",\n",
    "    xlabel: Union[str, None] = None,\n",
    "    ylabel: Union[str, None] = None,\n",
    "    hue: Union[str, None] = None,\n",
    "    alpha: Union[float, None] = None,\n",
    "    ax: Union[plt.Axes, None] = None,\n",
    "    set_kwargs: dict = None,\n",
    "    zip_params: dict\n",
    ") -> plt.Axes:\n",
    "    set_kwargs = _prep_set_kwargs(\n",
    "        title,\n",
    "        xlabel,\n",
    "        ylabel,\n",
    "        set_kwargs\n",
    "    )\n",
    "    return _plot(\n",
    "        sns.scatterplot,\n",
    "        zip_params,\n",
    "        set_kwargs\n",
    "    )"
   ]
  },
  {
   "cell_type": "code",
   "execution_count": 24,
   "metadata": {},
   "outputs": [
    {
     "data": {
      "text/plain": [
       "<AxesSubplot:title={'center':'HELLO TITLE'}, xlabel='Age', ylabel='Class'>"
      ]
     },
     "execution_count": 24,
     "metadata": {},
     "output_type": "execute_result"
    },
    {
     "data": {
      "image/png": "[encoded data removed]",
      "text/plain": [
       "<Figure size 432x288 with 1 Axes>"
      ]
     },
     "metadata": {
      "needs_background": "light"
     },
     "output_type": "display_data"
    }
   ],
   "source": [
    "scatterplot(x=\"Age\", y=\"Pclass\", data=df, ylabel=\"class\", set_kwargs={\"title\": \"Hello Title\"})"
   ]
  },
  {
   "cell_type": "markdown",
   "metadata": {},
   "source": [
    "## Barplot"
   ]
  },
  {
   "cell_type": "code",
   "execution_count": 25,
   "metadata": {},
   "outputs": [
    {
     "data": {
      "text/plain": [
       "<AxesSubplot:xlabel='Embarked', ylabel='Fare'>"
      ]
     },
     "execution_count": 25,
     "metadata": {},
     "output_type": "execute_result"
    },
    {
     "data": {
      "image/png": "[encoded data removed]",
      "text/plain": [
       "<Figure size 432x288 with 1 Axes>"
      ]
     },
     "metadata": {
      "needs_background": "light"
     },
     "output_type": "display_data"
    }
   ],
   "source": [
    "sns.barplot(x=\"Embarked\", y=\"Fare\", data=df)"
   ]
  },
  {
   "cell_type": "code",
   "execution_count": 26,
   "metadata": {},
   "outputs": [],
   "source": [
    "@zipparams(ignore=BASE.split())\n",
    "def barplot(\n",
    "    *,\n",
    "    x: str = None,\n",
    "    y: str = None,\n",
    "    data: DataFrame = None,\n",
    "    title: str = \"TITLE\",\n",
    "    xlabel: Union[str, None] = None,\n",
    "    ylabel: Union[str, None] = None,\n",
    "    order: Union[Vector, None] = None,\n",
    "    hue: Union[str, None] = None,\n",
    "    hue_order: Union[Vector, None] = None,\n",
    "    ci: Union[int, None] = 95,\n",
    "    orient: Literal[\"h\", \"v\"] = \"v\",\n",
    "    ax: Union[plt.Axes, None] = None,\n",
    "    set_kwargs: dict = None,\n",
    "    zip_params: dict\n",
    ") -> plt.Axes:\n",
    "    set_kwargs = _prep_set_kwargs(\n",
    "        title,\n",
    "        xlabel,\n",
    "        ylabel,\n",
    "        set_kwargs\n",
    "    )\n",
    "    return _plot(\n",
    "        sns.barplot,\n",
    "        zip_params,\n",
    "        set_kwargs\n",
    "    )"
   ]
  },
  {
   "cell_type": "code",
   "execution_count": 27,
   "metadata": {},
   "outputs": [
    {
     "data": {
      "text/plain": [
       "<AxesSubplot:title={'center':'TITLE'}, xlabel='Fare', ylabel='Embarked'>"
      ]
     },
     "execution_count": 27,
     "metadata": {},
     "output_type": "execute_result"
    },
    {
     "data": {
      "image/png": "[encoded data removed]",
      "text/plain": [
       "<Figure size 432x288 with 1 Axes>"
      ]
     },
     "metadata": {
      "needs_background": "light"
     },
     "output_type": "display_data"
    }
   ],
   "source": [
    "barplot(y=\"Embarked\", x=\"Fare\", data=df, orient=\"h\", order=[\"C\", \"S\", \"Q\"], ci=None)"
   ]
  },
  {
   "cell_type": "markdown",
   "metadata": {},
   "source": [
    "## Lineplot"
   ]
  },
  {
   "cell_type": "code",
   "execution_count": 43,
   "metadata": {},
   "outputs": [
    {
     "data": {
      "text/plain": [
       "<AxesSubplot:xlabel='Date', ylabel='Close'>"
      ]
     },
     "execution_count": 43,
     "metadata": {},
     "output_type": "execute_result"
    },
    {
     "data": {
      "image/png": "[encoded data removed]",
      "text/plain": [
       "<Figure size 432x288 with 1 Axes>"
      ]
     },
     "metadata": {
      "needs_background": "light"
     },
     "output_type": "display_data"
    }
   ],
   "source": [
    "sns.lineplot(x=\"Date\", y=\"Close\", data=df_ts, estimator=\"mean\")"
   ]
  },
  {
   "cell_type": "code",
   "execution_count": 46,
   "metadata": {},
   "outputs": [],
   "source": [
    "@zipparams(ignore=BASE.split())\n",
    "def lineplot(\n",
    "    *,\n",
    "    x: str = None,\n",
    "    y: str = None,\n",
    "    data: DataFrame = None,\n",
    "    title: str = \"TITLE\",\n",
    "    xlabel: Union[str, None] = None,\n",
    "    ylabel: Union[str, None] = None,\n",
    "    hue: Union[str, None] = None,\n",
    "    hue_order: Union[Vector, None] = None,\n",
    "    estimator: Literal[\"mean\", \"median\", \"min\", \"max\"] = \"mean\",\n",
    "    ci: Union[int, None] = 95,\n",
    "    ax: Union[plt.Axes, None] = None,\n",
    "    set_kwargs: dict = None,\n",
    "    zip_params: dict\n",
    ") -> plt.Axes:\n",
    "    set_kwargs = _prep_set_kwargs(\n",
    "        title,\n",
    "        xlabel,\n",
    "        ylabel,\n",
    "        set_kwargs\n",
    "    )\n",
    "    return _plot(\n",
    "        sns.lineplot,\n",
    "        zip_params,\n",
    "        set_kwargs\n",
    "    )"
   ]
  },
  {
   "cell_type": "code",
   "execution_count": 48,
   "metadata": {},
   "outputs": [
    {
     "data": {
      "text/plain": [
       "<AxesSubplot:title={'center':'TITLE'}, xlabel='Date', ylabel='Close'>"
      ]
     },
     "execution_count": 48,
     "metadata": {},
     "output_type": "execute_result"
    },
    {
     "data": {
      "image/png": "[encoded data removed]",
      "text/plain": [
       "<Figure size 432x288 with 1 Axes>"
      ]
     },
     "metadata": {
      "needs_background": "light"
     },
     "output_type": "display_data"
    }
   ],
   "source": [
    "lineplot(x=\"Date\", y=\"Close\", data=df_ts)"
   ]
  },
  {
   "cell_type": "markdown",
   "metadata": {},
   "source": [
    "## Regplot"
   ]
  },
  {
   "cell_type": "code",
   "execution_count": 54,
   "metadata": {},
   "outputs": [
    {
     "data": {
      "text/plain": [
       "<AxesSubplot:xlabel='Close', ylabel='Open'>"
      ]
     },
     "execution_count": 54,
     "metadata": {},
     "output_type": "execute_result"
    },
    {
     "data": {
      "image/png": "[encoded data removed]",
      "text/plain": [
       "<Figure size 432x288 with 1 Axes>"
      ]
     },
     "metadata": {
      "needs_background": "light"
     },
     "output_type": "display_data"
    }
   ],
   "source": [
    "sns.regplot(x=\"Close\", y=\"Open\", data=df_ts)"
   ]
  },
  {
   "cell_type": "code",
   "execution_count": 55,
   "metadata": {},
   "outputs": [],
   "source": [
    "@zipparams(ignore=BASE.split())\n",
    "def regplot(\n",
    "    *,\n",
    "    x: str = None,\n",
    "    y: str = None,\n",
    "    data: DataFrame = None,\n",
    "    title: str = \"TITLE\",\n",
    "    xlabel: Union[str, None] = None,\n",
    "    ylabel: Union[str, None] = None,\n",
    "    hue: Union[str, None] = None,\n",
    "    hue_order: Union[Vector, None] = None,\n",
    "    estimator: Literal[\"mean\", \"median\", \"min\", \"max\"] = \"mean\",\n",
    "    x_ci: Union[Literal[\"ci\", \"sd\"], int, None] = \"ci\", \n",
    "    scatter: bool = True, \n",
    "    fit_reg: bool = True, \n",
    "    ci: int = 95,\n",
    "    marker: Marker = \"o\",\n",
    "    logistic: bool = False,\n",
    "    ax: Union[plt.Axes, None] = None,\n",
    "    scatter_kws: Union[dict, None] = None,\n",
    "    line_kws: Union[dict, None] = None,\n",
    "    set_kwargs: dict = None,\n",
    "    zip_params: dict\n",
    ") -> plt.Axes:\n",
    "    set_kwargs = _prep_set_kwargs(\n",
    "        title,\n",
    "        xlabel,\n",
    "        ylabel,\n",
    "        set_kwargs\n",
    "    )\n",
    "    return _plot(\n",
    "        sns.regplot,\n",
    "        zip_params,\n",
    "        set_kwargs\n",
    "    )"
   ]
  },
  {
   "cell_type": "code",
   "execution_count": 56,
   "metadata": {},
   "outputs": [
    {
     "data": {
      "text/plain": [
       "<AxesSubplot:title={'center':'TITLE'}, xlabel='Close', ylabel='Open'>"
      ]
     },
     "execution_count": 56,
     "metadata": {},
     "output_type": "execute_result"
    },
    {
     "data": {
      "image/png": "[encoded data removed]",
      "text/plain": [
       "<Figure size 432x288 with 1 Axes>"
      ]
     },
     "metadata": {
      "needs_background": "light"
     },
     "output_type": "display_data"
    }
   ],
   "source": [
    "regplot(x=\"Close\", y=\"Open\", data=df_ts)"
   ]
  },
  {
   "cell_type": "markdown",
   "metadata": {},
   "source": [
    "## KDEPlot"
   ]
  },
  {
   "cell_type": "code",
   "execution_count": 57,
   "metadata": {},
   "outputs": [
    {
     "data": {
      "text/plain": [
       "<AxesSubplot:xlabel='Age', ylabel='Density'>"
      ]
     },
     "execution_count": 57,
     "metadata": {},
     "output_type": "execute_result"
    },
    {
     "data": {
      "image/png": "[encoded data removed]",
      "text/plain": [
       "<Figure size 432x288 with 1 Axes>"
      ]
     },
     "metadata": {
      "needs_background": "light"
     },
     "output_type": "display_data"
    }
   ],
   "source": [
    "sns.kdeplot(x=\"Age\", data=df)"
   ]
  },
  {
   "cell_type": "code",
   "execution_count": null,
   "metadata": {},
   "outputs": [],
   "source": []
  },
  {
   "cell_type": "code",
   "execution_count": null,
   "metadata": {},
   "outputs": [],
   "source": []
  }
 ],
 "metadata": {
  "kernelspec": {
   "display_name": "Python 3.10.3 64-bit",
   "language": "python",
   "name": "python3"
  },
  "language_info": {
   "codemirror_mode": {
    "name": "ipython",
    "version": 3
   },
   "file_extension": ".py",
   "mimetype": "text/x-python",
   "name": "python",
   "nbconvert_exporter": "python",
   "pygments_lexer": "ipython3",
   "version": "3.10.3"
  },
  "orig_nbformat": 4,
  "vscode": {
   "interpreter": {
    "hash": "aee8b7b246df8f9039afb4144a1f6fd8d2ca17a180786b69acc140d282b71a49"
   }
  }
 },
 "nbformat": 4,
 "nbformat_minor": 2
}
